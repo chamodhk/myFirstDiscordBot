{
  "nbformat": 4,
  "nbformat_minor": 0,
  "metadata": {
    "colab": {
      "provenance": [],
      "toc_visible": true,
      "authorship_tag": "ABX9TyN+6PJVC6jyxPUEXIBwvnme",
      "include_colab_link": true
    },
    "kernelspec": {
      "name": "python3",
      "display_name": "Python 3"
    },
    "language_info": {
      "name": "python"
    }
  },
  "cells": [
    {
      "cell_type": "markdown",
      "metadata": {
        "id": "view-in-github",
        "colab_type": "text"
      },
      "source": [
        "<a href=\"https://colab.research.google.com/github/chamodhk/myFirstDiscordBot/blob/main/Untitled2.ipynb\" target=\"_parent\"><img src=\"https://colab.research.google.com/assets/colab-badge.svg\" alt=\"Open In Colab\"/></a>"
      ]
    },
    {
      "cell_type": "code",
      "execution_count": 25,
      "metadata": {
        "colab": {
          "base_uri": "https://localhost:8080/"
        },
        "id": "QK7KDu2dBllW",
        "outputId": "5430b461-335b-422b-b254-14ef5f4ff4a7"
      },
      "outputs": [
        {
          "output_type": "stream",
          "name": "stdout",
          "text": [
            "Looking in indexes: https://pypi.org/simple, https://us-python.pkg.dev/colab-wheels/public/simple/\n",
            "Requirement already satisfied: beautifulsoup4 in /usr/local/lib/python3.8/dist-packages (4.6.3)\n",
            "Collecting beautifulsoup4\n",
            "  Downloading beautifulsoup4-4.11.2-py3-none-any.whl (129 kB)\n",
            "\u001b[2K     \u001b[90m━━━━━━━━━━━━━━━━━━━━━━━━━━━━━━━━━━━━━━━\u001b[0m \u001b[32m129.4/129.4 KB\u001b[0m \u001b[31m3.2 MB/s\u001b[0m eta \u001b[36m0:00:00\u001b[0m\n",
            "\u001b[?25hCollecting soupsieve>1.2\n",
            "  Downloading soupsieve-2.3.2.post1-py3-none-any.whl (37 kB)\n",
            "Installing collected packages: soupsieve, beautifulsoup4\n",
            "  Attempting uninstall: beautifulsoup4\n",
            "    Found existing installation: beautifulsoup4 4.6.3\n",
            "    Uninstalling beautifulsoup4-4.6.3:\n",
            "      Successfully uninstalled beautifulsoup4-4.6.3\n",
            "Successfully installed beautifulsoup4-4.11.2 soupsieve-2.3.2.post1\n"
          ]
        }
      ],
      "source": [
        "!pip install -U beautifulsoup4"
      ]
    },
    {
      "cell_type": "code",
      "source": [
        "import discord\n",
        "from bs4 import BeautifulSoup\n",
        "import requests\n",
        "import nest_asyncio\n",
        "nest_asyncio.apply()\n",
        "token = \"\"\n",
        "\n",
        "client = discord.Client(intents = discord.Intents.all())\n",
        "\n",
        "url = \"http://www.meteo.gov.lk/index.php?lang=en\"\n",
        "html = requests.get(url).text\n",
        "\n",
        "soup = BeautifulSoup(html)\n",
        "@client.event\n",
        "async def on_ready():\n",
        "  print('We have logged in as {0.user}'.format(client))\n",
        "@client.event\n",
        "async def on_message(message):\n",
        "  if message.content.startswith(\"!\"):\n",
        "    if \"weather\" in message.content:\n",
        "\n",
        "      await message.channel.send(\"Getting weather info....\")\n",
        "\n",
        "      url =\"http://www.meteo.gov.lk/index.php?lang=en\"\n",
        "\n",
        "\n",
        "      html = requests.get(url).text\n",
        "      await message.channel.send(\"processing......\")\n",
        "      soup = BeautifulSoup(html)\n",
        "\n",
        "      out =\"\\n\"\n",
        "\n",
        "      forecast = soup.find(\"div\",class_=\"article_anywhere\")\n",
        "      forecasts = forecast.findChildren(\"p\")\n",
        "\n",
        "      for forecast in forecasts:\n",
        "        out = out + forecast.text +\"\\n\"\n",
        "      await message.channel.send(out)\n",
        "\n",
        "client.run(token)"
      ],
      "metadata": {
        "id": "8_5HLHZPDCtZ"
      },
      "execution_count": null,
      "outputs": []
    },
    {
      "cell_type": "code",
      "source": [
        "import requests\n",
        "\n",
        "from bs4 import BeautifulSoup\n",
        "\n",
        "url =\"http://www.meteo.gov.lk/index.php?lang=en\"\n",
        "\n",
        "html = requests.get(url).text\n",
        "\n",
        "soup = BeautifulSoup(html)\n",
        "\n",
        "out =\"\"\n",
        "\n",
        "forecast = soup.find(\"div\",class_=\"article_anywhere\")\n",
        "forecasts = forecast.findChildren(\"p\")\n",
        "\n",
        "for forecast in forecasts:\n",
        "  out = out + \"\\n\"+ forecast.text +\"\\n\"\n",
        "\n",
        "print(out)"
      ],
      "metadata": {
        "colab": {
          "base_uri": "https://localhost:8080/"
        },
        "id": "MUhJG-5yMTBn",
        "outputId": "14fec248-0feb-45b6-fe5c-3343bf60ff3f"
      },
      "execution_count": 36,
      "outputs": [
        {
          "output_type": "stream",
          "name": "stdout",
          "text": [
            "\n",
            "WEATHER FORECAST FOR 13 FEBRUARY 2023\n",
            "\n",
            "Issued at 12.00 noon on 12 February 2023\n",
            "\n",
            " \n",
            "\n",
            "Showers or thundershowers may occur at a few places in Rathnapura, Kalutara, Galle and Matara districts during the afternoon or night. \n",
            "\n",
            "Mainly fair weather will prevail elsewhere over the island. \n",
            "\n"
          ]
        }
      ]
    }
  ]
}
